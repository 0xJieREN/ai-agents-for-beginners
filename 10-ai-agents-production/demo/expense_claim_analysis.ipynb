{
 "cells": [
  {
   "cell_type": "markdown",
   "metadata": {},
   "source": [
    "# Expense Claim Analysis\n",
    "\n",
    "This notebook demonstrates how to create agents that use plugins to process travel expenses from local receipt images, generate an expense claim email, and visualize expense data using a pie chart. Agents dynamically choose functions based on the task context.\n",
    "\n",
    "Steps:\n",
    "1. OCR Agent processes the local receipt image and extracts travel expense data.\n",
    "2. Email Agent generates an expense claim email.\n",
    "3. Chart Agent visualizes expense data.\n",
    "\n",
    "Created by:\n",
    "\n",
    "<table>\n",
    "<tr>\n",
    "    <td align=\"center\"><a href=\"https://github.com/ShivamGoyal03\">\n",
    "        <img src=\"https://github.com/ShivamGoyal03.png\" width=\"100px;\" alt=\"Shivam Goyal\"/><br />\n",
    "        <sub><b>Shivam Goyal</b></sub>\n",
    "    </a><br />\n",
    "    </td>\n",
    "</tr></table>\n",
    "\n",
    "Example of a travel expense scenario:\n",
    "Imagine you're an employee traveling for a business meeting in another city. Your company has a policy to reimburse all reasonable travel-related expenses. Here’s a breakdown of potential travel expenses:\n",
    "- Transportation:\n",
    "Airfare for a round trip from your home city to the destination city.\n",
    "Taxi or ride-hailing services to and from the airport.\n",
    "Local transportation in the destination city (like public transit, rental cars, or taxis).\n",
    "\n",
    "- Accommodation:\n",
    "Hotel stay for three nights at a mid-range business hotel close to the meeting venue.\n",
    "\n",
    "- Meals:\n",
    "Daily meal allowance for breakfast, lunch, and dinner, based on the company's per diem policy.\n",
    "\n",
    "- Miscellaneous Expenses:\n",
    "Parking fees at the airport.\n",
    "Internet access charges at the hotel.\n",
    "Tips or small service charges.\n",
    "\n",
    "- Documentation:\n",
    "You submit all receipts (flights, taxis, hotel, meals, etc.) and a completed expense report for reimbursement."
   ]
  },
  {
   "cell_type": "markdown",
   "metadata": {},
   "source": [
    "## Install necessary packages\n",
    "\n",
    "First, install the required Python packages: `pandas` and `plotly`."
   ]
  },
  {
   "cell_type": "code",
   "execution_count": null,
   "metadata": {},
   "outputs": [],
   "source": [
    "%pip install pandas plotly"
   ]
  },
  {
   "cell_type": "markdown",
   "metadata": {},
   "source": [
    "## Import required libraries\n",
    "\n",
    "Import the necessary libraries and modules for the notebook."
   ]
  },
  {
   "cell_type": "code",
   "execution_count": 8,
   "metadata": {},
   "outputs": [],
   "source": [
    "import os\n",
    "from dotenv import load_dotenv\n",
    "from azure.identity.aio import DefaultAzureCredential\n",
    "from azure.ai.inference import ChatCompletionsClient\n",
    "from azure.core.credentials import AzureKeyCredential\n",
    "from semantic_kernel.kernel import Kernel\n",
    "from semantic_kernel.agents import AgentGroupChat\n",
    "from semantic_kernel.contents.utils.author_role import AuthorRole\n",
    "from semantic_kernel.agents.azure_ai import AzureAIAgent, AzureAIAgentSettings\n",
    "from semantic_kernel.agents.strategies import SequentialSelectionStrategy, DefaultTerminationStrategy\n",
    "from semantic_kernel.contents.chat_message_content import ChatMessageContent\n",
    "from semantic_kernel.functions import kernel_function\n",
    "import plotly.express as px\n",
    "import pandas as pd\n",
    "from pydantic import BaseModel, Field\n",
    "from typing import List\n",
    "from azure.ai.inference.models import SystemMessage, UserMessage, TextContentItem, ImageContentItem, ImageUrl, ImageDetailLevel"
   ]
  },
  {
   "cell_type": "code",
   "execution_count": 9,
   "metadata": {},
   "outputs": [],
   "source": [
    "load_dotenv()\n",
    "endpoint = \"https://models.inference.ai.azure.com/\"\n",
    "token = os.environ.get(\"GITHUB_TOKEN\")\n",
    "model_name = \"Phi-4-multimodal-instruct\"\n",
    "\n",
    "client = ChatCompletionsClient(\n",
    "    endpoint=endpoint,\n",
    "    credential=AzureKeyCredential(token),\n",
    ")"
   ]
  },
  {
   "cell_type": "markdown",
   "metadata": {},
   "source": [
    " ## Define Expense Models\n",
    "\n",
    " Create a Pydantic model for individual expenses and an ExpenseFormatter class to convert a user query into structured expense data.\n",
    "\n",
    " Each expense will be represented in the format:\n",
    " `{'date': '07-Mar-2025', 'description': 'flight to destination', 'amount': 675.99, 'category': 'Transportation'}`\n"
   ]
  },
  {
   "cell_type": "code",
   "execution_count": 10,
   "metadata": {},
   "outputs": [],
   "source": [
    "class Expense(BaseModel):\n",
    "    date: str = Field(..., description=\"Date of expense in dd-MMM-yyyy format\")\n",
    "    description: str = Field(..., description=\"Expense description\")\n",
    "    amount: float = Field(..., description=\"Expense amount\")\n",
    "    category: str = Field(..., description=\"Expense category (e.g., Transportation, Meals, Accommodation, Miscellaneous)\")\n",
    "\n",
    "class ExpenseFormatter(BaseModel):\n",
    "    raw_query: str = Field(..., description=\"Raw query input containing expense details\")\n",
    "    \n",
    "    def parse_expenses(self) -> List[Expense]:\n",
    "        \"\"\"\n",
    "        Parses the raw query and converts it into a list of Expense objects.\n",
    "        Expected format for each expense: \"date|description|amount|category\"\n",
    "        Expenses should be separated by semicolons.\n",
    "        \n",
    "        Example:\n",
    "        \"07-Mar-2025|flight to destination|675.99|Transportation; 07-Mar-2025|taxi from airport to hotel|24.00|Transportation\"\n",
    "        \"\"\"\n",
    "        expense_list = []\n",
    "        for expense_str in self.raw_query.split(\";\"):\n",
    "            if expense_str.strip():\n",
    "                parts = expense_str.strip().split(\"|\")\n",
    "                if len(parts) == 4:\n",
    "                    date, description, amount, category = parts\n",
    "                    expense = Expense(\n",
    "                        date=date.strip(),\n",
    "                        description=description.strip(),\n",
    "                        amount=float(amount.strip()),\n",
    "                        category=category.strip()\n",
    "                    )\n",
    "                    expense_list.append(expense)\n",
    "        return expense_list"
   ]
  },
  {
   "cell_type": "markdown",
   "metadata": {},
   "source": [
    "## Defining Agents - Generating the Email\n",
    "\n",
    "Create an agent class to generate an email for submitting an expense claim.\n",
    "- This agent uses the `kernel_function` decorator to define a function that generates an email for submitting an expense claim.\n",
    "- It calculates the total amount of the expenses and formats the details into an email body."
   ]
  },
  {
   "cell_type": "code",
   "execution_count": 12,
   "metadata": {},
   "outputs": [],
   "source": [
    "class ExpenseEmailAgent:\n",
    "\n",
    "    @kernel_function(description=\"Generate an email to submit an expense claim to the Finance Team\")\n",
    "    async def generate_expense_email(expenses):\n",
    "        total_amount = sum(expense['amount'] for expense in expenses)\n",
    "        email_body = \"Dear Finance Team,\\n\\n\"\n",
    "        email_body += \"Please find below the details of my expense claim:\\n\\n\"\n",
    "        for expense in expenses:\n",
    "            email_body += f\"- {expense['description']}: ${expense['amount']}\\n\"\n",
    "        email_body += f\"\\nTotal Amount: ${total_amount}\\n\\n\"\n",
    "        email_body += \"Receipts for all expenses are attached for your reference.\\n\\n\"\n",
    "        email_body += \"Thank you,\\n[Your Name]\"\n",
    "        return email_body"
   ]
  },
  {
   "cell_type": "markdown",
   "metadata": {},
   "source": [
    "# Agent for Extracting Travel Expenses from Receipt Images\n",
    "\n",
    "Create an agent class to extract travel expenses from receipt images.\n",
    "- This agent uses the `kernel_function` decorator to define a function that extracts travel expenses from receipt images.\n",
    "- Convert the receipt image to text using OCR (Optical Character Recognition) and extract relevant information such as date, description, amount, and category."
   ]
  },
  {
   "cell_type": "code",
   "execution_count": 11,
   "metadata": {},
   "outputs": [],
   "source": [
    "class OCRAgentPlugin:\n",
    "    def __init__(self):\n",
    "        self.client = ChatCompletionsClient(\n",
    "            endpoint=\"https://models.inference.ai.azure.com/\",\n",
    "            credential=AzureKeyCredential(os.environ.get(\"GITHUB_TOKEN\")),\n",
    "        )\n",
    "        self.model_name = \"Phi-4-multimodal-instruct\"\n",
    "\n",
    "    @kernel_function(description=\"Extract text from a local image using Phi-4 vision model\")\n",
    "    def extract_text(self, image_path: str) -> str:\n",
    "        image_url_str = str(ImageUrl.load(image_file=image_path, image_format=\"jpg\", detail=ImageDetailLevel.LOW))\n",
    "        \n",
    "        response = self.client.complete(\n",
    "            messages=[\n",
    "                SystemMessage(content=\"You are an OCR assistant, helping me extract text from images of receipts for travel expenses.\"),\n",
    "                UserMessage(content=[\n",
    "                    TextContentItem(text=\"Please extract the raw text from this receipt image, focusing on travel expenses like dates, descriptions, amounts, and categories (e.g., Transportation, Accommodation, Meals, Miscellaneous).\"),\n",
    "                    ImageContentItem(image_url=ImageUrl(url=image_url_str))\n",
    "                ])\n",
    "            ],\n",
    "            model=self.model_name,\n",
    "            temperature=0.1,\n",
    "            max_tokens=2048\n",
    "        )\n",
    "        return response.choices[0].message.content"
   ]
  },
  {
   "cell_type": "markdown",
   "metadata": {},
   "source": [
    "### Agent for Generating the Chart\n",
    "\n",
    "Create an agent class to generate a pie chart using Plotly to visualize the distribution of expenses by category.\n",
    "- This agent uses the `kernel_function` decorator to define a function that creates a pie chart using Plotly.\n",
    "- It converts the expenses data into a Pandas DataFrame and generates a pie chart showing the distribution of expenses by category.\n"
   ]
  },
  {
   "cell_type": "code",
   "execution_count": 13,
   "metadata": {},
   "outputs": [],
   "source": [
    "class ExpenseChartAgent:\n",
    "    \n",
    "    @kernel_function(description=\"Create a pie chart to visualize the distribution of expenses by category\")\n",
    "    def create_expense_chart(expenses):\n",
    "        df = pd.DataFrame(expenses)\n",
    "        fig = px.pie(df, values='amount', names='category', title='Expense Distribution by Category')\n",
    "        return fig"
   ]
  },
  {
   "cell_type": "markdown",
   "metadata": {},
   "source": [
    "## Processing Expenses\n",
    "\n",
    "Define an asynchronous function to process the expenses by creating and registering the necessary agents and then invoking them.\n",
    "- This function processes the expenses by loading environment variables, creating the necessary agents, and registering them as plugins.\n",
    "- It creates a group chat with the two agents and sends a prompt message to generate the email and pie chart based on the expenses data.\n",
    "- It handles any errors that occur during the chat invocation and ensures proper cleanup of the agents."
   ]
  },
  {
   "cell_type": "code",
   "execution_count": 16,
   "metadata": {},
   "outputs": [],
   "source": [
    "async def process_expenses():\n",
    "    load_dotenv()\n",
    "    ai_agent_settings = AzureAIAgentSettings.create()\n",
    "    kernel = Kernel()\n",
    "\n",
    "    # Get local image input or use sample data\n",
    "    image_path = input(\"Enter the local file path for the receipt image (e.g., ./receipt.jpg): \").strip()\n",
    "    if not image_path:\n",
    "        print(\"No image provided. Using sample data instead.\")\n",
    "        user_query = (\n",
    "            \"07-Mar-2025|flight to destination|675.99|Transportation; \"\n",
    "            \"07-Mar-2025|taxi from airport to hotel|24.00|Transportation; \"\n",
    "            \"07-Mar-2025|dinner|65.50|Meals; \"\n",
    "            \"07-Mar-2025|hotel stay|125.90|Accommodation\"\n",
    "        )\n",
    "        formatter = ExpenseFormatter(raw_query=user_query)\n",
    "        expenses = [expense.model_dump() for expense in formatter.parse_expenses()]\n",
    "        initial_prompt = f\"Process these travel expenses to generate an expense claim email and create a visualization: {str(expenses)}\"\n",
    "    else:\n",
    "        initial_prompt = f\"Process this local receipt image to extract travel expenses, generate an expense claim email, and create a visualization. Image path: {image_path}\"\n",
    "\n",
    "    # Connect to Azure AI\n",
    "    async with (\n",
    "        DefaultAzureCredential() as creds,\n",
    "        AzureAIAgent.create_client(credential=creds) as project_client,\n",
    "    ):\n",
    "        # Define agents with instructions\n",
    "        ocr_agent_def = await project_client.agents.create_agent(\n",
    "            model=ai_agent_settings.model_deployment_name,\n",
    "            name=\"ocr_agent\",\n",
    "            instructions=\"Process the input to extract travel expense data from a local receipt image if an image path is provided in the prompt, then pass the extracted data forward for further processing. Use the 'extract_text' function from the 'ocrAgent' plugin when an image path is present.\"\n",
    "        )\n",
    "        ocr_agent = AzureAIAgent(client=project_client, definition=ocr_agent_def)\n",
    "\n",
    "        email_agent_def = await project_client.agents.create_agent(\n",
    "            model=ai_agent_settings.model_deployment_name,\n",
    "            name=\"email_agent\",\n",
    "            instructions=\"Take the travel expense data from the previous agent and generate a professional expense claim email using the 'generate_expense_email' function from the 'expenseEmailAgent' plugin, then pass the data forward.\"\n",
    "        )\n",
    "        email_agent = AzureAIAgent(client=project_client, definition=email_agent_def)\n",
    "\n",
    "        chart_agent_def = await project_client.agents.create_agent(\n",
    "            model=ai_agent_settings.model_deployment_name,\n",
    "            name=\"chart_agent\",\n",
    "            instructions=\"Take the travel expense data from the previous agent and create a pie chart to visualize the distribution by category using the 'create_expense_chart' function from the 'expenseChartAgent' plugin.\"\n",
    "        )\n",
    "        chart_agent = AzureAIAgent(client=project_client, definition=chart_agent_def)\n",
    "\n",
    "        # Register plugins with the kernel\n",
    "        kernel.add_plugin(OCRAgentPlugin(), plugin_name=\"ocrAgent\")\n",
    "        kernel.add_plugin(ExpenseEmailAgent(), plugin_name=\"expenseEmailAgent\")\n",
    "        kernel.add_plugin(ExpenseChartAgent(), plugin_name=\"expenseChartAgent\")\n",
    "\n",
    "        # Create group chat\n",
    "        chat = AgentGroupChat(\n",
    "            agents=[ocr_agent, email_agent, chart_agent],\n",
    "            selection_strategy=SequentialSelectionStrategy(initial_agent=ocr_agent),\n",
    "            termination_strategy=DefaultTerminationStrategy(maximum_iterations=3)\n",
    "        )\n",
    "\n",
    "        # Add user message with prompt\n",
    "        user_message = ChatMessageContent(\n",
    "            role=AuthorRole.USER,\n",
    "            content=initial_prompt\n",
    "        )\n",
    "        \n",
    "        await chat.add_chat_message(user_message)\n",
    "        print(f\"# AuthorRole.USER: \\n{user_message.content}\\n\")\n",
    "\n",
    "        # Invoke chat and let agents process autonomously\n",
    "        try:\n",
    "            async for content in chat.invoke():\n",
    "                print(f\"# {content.role} - {content.name}: \\n{content.content}\\n\")\n",
    "        except Exception as e:\n",
    "            print(f\"Error during chat invocation: {e}\")\n",
    "        finally:\n",
    "            await chat.reset()\n",
    "            await project_client.agents.delete_agent(ocr_agent.id)\n",
    "            await project_client.agents.delete_agent(email_agent.id)\n",
    "            await project_client.agents.delete_agent(chart_agent.id)"
   ]
  },
  {
   "cell_type": "markdown",
   "metadata": {},
   "source": [
    "## Main function\n",
    "\n",
    "Define the main function to clear the console and run the `process_expenses` function asynchronously."
   ]
  },
  {
   "cell_type": "code",
   "execution_count": 17,
   "metadata": {},
   "outputs": [
    {
     "name": "stdout",
     "output_type": "stream",
     "text": [
      "# AuthorRole.USER: \n",
      "Process this local receipt image to extract travel expenses, generate an expense claim email, and create a visualization. Image path: ./receipt.jpg\n",
      "\n",
      "# AuthorRole.ASSISTANT - ocr_agent: \n",
      "It seems there's an issue with extracting the text from the local receipt image. Could you provide the details manually, or alternatively, upload the image to a cloud service where it can be accessed via a URL?\n",
      "\n",
      "# AuthorRole.ASSISTANT - email_agent: \n",
      "It seems there's an issue with extracting the text from the local receipt image. Could you provide the details manually, or alternatively, upload the image to a cloud service where it can be accessed via a URL?\n",
      "\n",
      "# AuthorRole.ASSISTANT - chart_agent: \n",
      "It seems you're asking to process an image for travel expense details, generate an expense claim email, and create a visualization. However, I cannot access local files directly or process image data. Could you provide the expense details manually, or upload the image to a cloud service where it can be accessed via a URL?\n",
      "\n"
     ]
    }
   ],
   "source": [
    "async def main():\n",
    "    # Clear the console\n",
    "    os.system('cls' if os.name=='nt' else 'clear')\n",
    "\n",
    "    # Run the async agent code\n",
    "    await process_expenses()\n",
    "\n",
    "await main()"
   ]
  }
 ],
 "metadata": {
  "kernelspec": {
   "display_name": "venv",
   "language": "python",
   "name": "python3"
  },
  "language_info": {
   "codemirror_mode": {
    "name": "ipython",
    "version": 3
   },
   "file_extension": ".py",
   "mimetype": "text/x-python",
   "name": "python",
   "nbconvert_exporter": "python",
   "pygments_lexer": "ipython3",
   "version": "3.12.4"
  }
 },
 "nbformat": 4,
 "nbformat_minor": 2
}
