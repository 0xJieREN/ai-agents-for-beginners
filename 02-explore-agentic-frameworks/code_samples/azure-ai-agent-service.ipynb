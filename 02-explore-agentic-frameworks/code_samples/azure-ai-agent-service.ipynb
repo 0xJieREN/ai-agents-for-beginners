{
 "cells": [
  {
   "cell_type": "code",
   "execution_count": 1,
   "metadata": {},
   "outputs": [],
   "source": [
    "import os\n",
    "from azure.ai.projects import AIProjectClient\n",
    "from azure.identity import DefaultAzureCredential\n",
    "from typing import Any\n",
    "from pathlib import Path"
   ]
  },
  {
   "cell_type": "code",
   "execution_count": 4,
   "metadata": {},
   "outputs": [],
   "source": [
    "project_client = AIProjectClient.from_connection_string(\n",
    "    credential=DefaultAzureCredential(), conn_str=os.environ[\"PROJECT_CONNECTION_STRING\"]\n",
    ")"
   ]
  },
  {
   "cell_type": "code",
   "execution_count": 12,
   "metadata": {},
   "outputs": [
    {
     "name": "stdout",
     "output_type": "stream",
     "text": [
      "Created agent, agent ID: asst_ixAqDwFG3UA1VKu5JfoLrvC0\n"
     ]
    }
   ],
   "source": [
    "agent = project_client.agents.create_agent(\n",
    "        model=\"gpt-4o-mini\",\n",
    "        name=\"my-agent\",\n",
    "        instructions=\"You are helpful Travel Agent\",\n",
    "     \n",
    "    )\n",
    "print(f\"Created agent, agent ID: {agent.id}\")\n"
   ]
  },
  {
   "cell_type": "code",
   "execution_count": 13,
   "metadata": {},
   "outputs": [
    {
     "name": "stdout",
     "output_type": "stream",
     "text": [
      "Created thread, thread ID: thread_orCinYMqPKxfmtaLKVGdaMB0\n"
     ]
    }
   ],
   "source": [
    "    # Create a thread\n",
    "thread = project_client.agents.create_thread()\n",
    "print(f\"Created thread, thread ID: {thread.id}\")\n"
   ]
  },
  {
   "cell_type": "code",
   "execution_count": 14,
   "metadata": {},
   "outputs": [
    {
     "name": "stdout",
     "output_type": "stream",
     "text": [
      "Created message, ID: msg_jJPogcXhk4AdFqx5MwnF9As1\n"
     ]
    }
   ],
   "source": [
    "    # Get messages from the thread\n",
    "message = project_client.agents.create_message(\n",
    "        thread_id=thread.id,\n",
    "        role=\"user\",\n",
    "        content=\"I want to book a flight to Paris\",\n",
    "    )\n",
    "print(f\"Created message, ID: {message.id}\")\n"
   ]
  },
  {
   "cell_type": "code",
   "execution_count": 16,
   "metadata": {},
   "outputs": [
    {
     "name": "stdout",
     "output_type": "stream",
     "text": [
      "Run finished with status: RunStatus.COMPLETED\n"
     ]
    }
   ],
   "source": [
    "run = project_client.agents.create_and_process_run(thread_id=thread.id, assistant_id=agent.id)\n",
    "    # [END create_and_process_run]\n",
    "print(f\"Run finished with status: {run.status}\")\n",
    "\n",
    "if run.status == \"failed\":\n",
    "        print(f\"Run failed: {run.last_error}\")"
   ]
  },
  {
   "cell_type": "code",
   "execution_count": 17,
   "metadata": {},
   "outputs": [
    {
     "name": "stdout",
     "output_type": "stream",
     "text": [
      "Messages: {'object': 'list', 'data': [{'id': 'msg_cEj0tnvA870VQGKu9JARxnYh', 'object': 'thread.message', 'created_at': 1738772216, 'assistant_id': 'asst_ixAqDwFG3UA1VKu5JfoLrvC0', 'thread_id': 'thread_orCinYMqPKxfmtaLKVGdaMB0', 'run_id': 'run_rtay1pcRULNCyJcryexK47bh', 'role': 'assistant', 'content': [{'type': 'text', 'text': {'value': 'Sure! I can help you with that. Here are a few things I need to know:\\n\\n1. **Departure City**: Where will you be flying from?\\n2. **Travel Dates**: What are your departure and return dates?\\n3. **Flexibility**: Are your travel dates flexible?\\n4. **Number of Passengers**: How many people are traveling?\\n5. **Class of Service**: Do you prefer economy, business, or first class?\\n6. **Any Specific Preferences**: Do you have any preferred airlines or stopover preferences?\\n\\nOnce I have this information, I can help you find the best options for your flight to Paris!', 'annotations': []}}], 'attachments': [], 'metadata': {}}, {'id': 'msg_jJPogcXhk4AdFqx5MwnF9As1', 'object': 'thread.message', 'created_at': 1738771924, 'assistant_id': None, 'thread_id': 'thread_orCinYMqPKxfmtaLKVGdaMB0', 'run_id': None, 'role': 'user', 'content': [{'type': 'text', 'text': {'value': 'I want to book a flight to Paris', 'annotations': []}}], 'attachments': [], 'metadata': {}}], 'first_id': 'msg_cEj0tnvA870VQGKu9JARxnYh', 'last_id': 'msg_jJPogcXhk4AdFqx5MwnF9As1', 'has_more': False}\n"
     ]
    }
   ],
   "source": [
    "messages = project_client.agents.list_messages(thread_id=thread.id)\n",
    "print(f\"Messages: {messages}\")"
   ]
  },
  {
   "cell_type": "code",
   "execution_count": null,
   "metadata": {},
   "outputs": [],
   "source": []
  }
 ],
 "metadata": {
  "kernelspec": {
   "display_name": ".venv",
   "language": "python",
   "name": "python3"
  },
  "language_info": {
   "codemirror_mode": {
    "name": "ipython",
    "version": 3
   },
   "file_extension": ".py",
   "mimetype": "text/x-python",
   "name": "python",
   "nbconvert_exporter": "python",
   "pygments_lexer": "ipython3",
   "version": "3.11.11"
  }
 },
 "nbformat": 4,
 "nbformat_minor": 2
}
