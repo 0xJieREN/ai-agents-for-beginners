{
 "cells": [
  {
   "cell_type": "code",
   "execution_count": 26,
   "metadata": {},
   "outputs": [],
   "source": [
    "import os\n",
    "\n",
    "from autogen_agentchat.agents import AssistantAgent\n",
    "from autogen_core.models import UserMessage\n",
    "from autogen_ext.models.azure import AzureAIChatCompletionClient\n",
    "from azure.core.credentials import AzureKeyCredential\n",
    "from autogen_core import CancellationToken\n",
    "\n",
    "from autogen_agentchat.messages import TextMessage\n",
    "from autogen_agentchat.ui import Console\n"
   ]
  },
  {
   "cell_type": "code",
   "execution_count": 17,
   "metadata": {},
   "outputs": [
    {
     "name": "stdout",
     "output_type": "stream",
     "text": [
      "github_token None\n"
     ]
    }
   ],
   "source": [
    "github_token = os.environ.get(\"GITHUB_TOKEN\")\n",
    "print(\"github_token\", github_token)"
   ]
  },
  {
   "cell_type": "code",
   "execution_count": null,
   "metadata": {},
   "outputs": [
    {
     "name": "stdout",
     "output_type": "stream",
     "text": [
      "finish_reason='stop' content='The capital of France is Paris.' usage=RequestUsage(prompt_tokens=14, completion_tokens=7) cached=False logprobs=None thought=None\n"
     ]
    }
   ],
   "source": [
    "client = AzureAIChatCompletionClient(\n",
    "    model=\"gpt-4o-mini\",\n",
    "    endpoint=\"https://models.inference.ai.azure.com\",\n",
    "    # To authenticate with the model you will need to generate a personal access token (PAT) in your GitHub settings.\n",
    "    # Create your PAT token by following instructions here: https://docs.github.com/en/authentication/keeping-your-account-and-data-secure/managing-your-personal-access-tokens\n",
    "    credential=AzureKeyCredential(os.environ[\"GITHUB_TOKEN\"]),\n",
    "    model_info={\n",
    "        \"json_output\": True,\n",
    "        \"function_calling\": True,\n",
    "        \"vision\": True,\n",
    "        \"family\": \"unknown\",\n",
    "    },\n",
    ")\n",
    "\n",
    "result = await client.create([UserMessage(content=\"What is the capital of France?\", source=\"user\")])\n",
    "print(result)"
   ]
  },
  {
   "cell_type": "code",
   "execution_count": 30,
   "metadata": {},
   "outputs": [],
   "source": [
    "agent = AssistantAgent(\n",
    "    name=\"assistant\",\n",
    "    model_client=client,\n",
    "    tools=[],\n",
    "    system_message=\"You are a travel agent that plans great vacations\",\n",
    ")"
   ]
  },
  {
   "cell_type": "code",
   "execution_count": 31,
   "metadata": {},
   "outputs": [
    {
     "name": "stdout",
     "output_type": "stream",
     "text": [
      "[]\n",
      "source='assistant' models_usage=RequestUsage(prompt_tokens=21, completion_tokens=671) content=\"Sure! Here’s a detailed plan for a sunny vacation to a beautiful destination. Let’s go with **Queenstown, New Zealand**, a fantastic spot known for its stunning scenery and outdoor activities. Here’s a week-long itinerary:\\n\\n### Day 1: Arrival in Queenstown\\n- **Morning**: Arrive at Queenstown Airport and take a scenic shuttle ride to your accommodation.\\n- **Accommodation**: Check into a lakeside hotel or cozy Airbnb with mountain views.\\n- **Afternoon**: Stroll around Lake Wakatipu and explore the vibrant Queenstown Gardens.\\n- **Evening**: Enjoy dinner at a lakeside restaurant, trying local cuisine like lamb or fresh seafood.\\n\\n### Day 2: Adventure Day\\n- **Morning**: Start your day with a thrilling **jet boat ride** on the Shotover River.\\n- **Afternoon**: Take the **Skyline Gondola** to Bob's Peak for panoramic views and lunch at the restaurant at the top.\\n- **Evening**: Try a fun **luge ride** down the hill.\\n\\n### Day 3: Day Trip to Milford Sound\\n- **All Day**: Take a tour to **Milford Sound**. Enjoy stunning views on the drive and a scenic boat cruise through the fjord, admiring waterfalls and wildlife.\\n- **Evening**: Return to Queenstown for a relaxing dinner at a local pub.\\n\\n### Day 4: Wine and Dine in Gibbston Valley\\n- **Morning**: Rent a bike and take a scenic ride along the **Gibbston Valley Wine Trail**.\\n- **Afternoon**: Tour and taste at some of the region's best wineries like **Chard Farm** or **Central Otago Wine Company**.\\n- **Evening**: Enjoy a gourmet dinner at a vineyard restaurant, basking in the sun.\\n\\n### Day 5: Outdoor Activities\\n- **Morning**: Go for a **hike** on the Ben Lomond Track for stunning mountain views.\\n- **Afternoon**: Relax at one of Queenstown’s lakeside beaches like **Frankton Beach** or **Sunshine Bay**.\\n- **Evening**: Visit a lively area like **Earnslaw Park** for live music and local food trucks.\\n\\n### Day 6: Relaxation and Spa Day\\n- **Morning**: Treat yourself to a spa day at a wellness retreat like **The Spa at QT**.\\n- **Afternoon**: Enjoy some leisure time—shopping at local boutiques or visiting art galleries.\\n- **Evening**: Have a farewell dinner at a fine dining restaurant overlooking the lake.\\n\\n### Day 7: Departure\\n- **Morning**: Last walk around the lake to soak in the views.\\n- **Afternoon**: Head to the airport for your departure, carrying back wonderful memories!\\n\\n### Tips for Your Vacation:\\n- **Best Time to Visit**: Late spring (November) or early autumn (March) for pleasant weather.\\n- **Packing Essentials**: Sunblock, hats, comfortable walking shoes, and casual outdoor clothing.\\n- **Transportation**: Consider renting a car for easy access to surrounding areas, though Queenstown is walkable.\\n\\nThis itinerary can be customized based on your interests or the activities you prefer! Enjoy your sunny vacation!\" type='TextMessage'\n"
     ]
    }
   ],
   "source": [
    "async def assistant_run() -> None:\n",
    "    response = await agent.on_messages(\n",
    "        [TextMessage(content=\"Plan me a great sunny vacation\", source=\"user\")],\n",
    "        cancellation_token=CancellationToken(),\n",
    "    )\n",
    "    print(response.inner_messages)\n",
    "    print(response.chat_message)\n",
    "\n",
    "\n",
    "# Use asyncio.run(assistant_run()) when running in a script.\n",
    "await assistant_run()"
   ]
  }
 ],
 "metadata": {
  "kernelspec": {
   "display_name": ".venv",
   "language": "python",
   "name": "python3"
  },
  "language_info": {
   "codemirror_mode": {
    "name": "ipython",
    "version": 3
   },
   "file_extension": ".py",
   "mimetype": "text/x-python",
   "name": "python",
   "nbconvert_exporter": "python",
   "pygments_lexer": "ipython3",
   "version": "3.11.11"
  }
 },
 "nbformat": 4,
 "nbformat_minor": 2
}
