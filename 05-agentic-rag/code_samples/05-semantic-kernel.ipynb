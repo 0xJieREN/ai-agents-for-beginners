{
 "cells": [
  {
   "cell_type": "markdown",
   "metadata": {},
   "source": [
    "# Semantic Kernel Tool Use Example\n",
    "\n",
    "This document provides an overview and explanation of the code used to create a Semantic Kernel-based tool that integrates with ChromaDB for Retrieval-Augmented Generation (RAG). The example demonstrates how to build an AI agent that retrieves travel documents from a ChromaDB collection, augments user queries with semantic search results, and streams detailed travel recommendations."
   ]
  },
  {
   "cell_type": "markdown",
   "metadata": {},
   "source": [
    "## Initializing the Environment"
   ]
  },
  {
   "cell_type": "code",
   "execution_count": 2,
   "metadata": {},
   "outputs": [],
   "source": [
    "import os\n",
    "import asyncio\n",
    "import chromadb\n",
    "\n",
    "from openai import AsyncOpenAI\n",
    "from semantic_kernel.kernel import Kernel\n",
    "from semantic_kernel.connectors.ai.open_ai import OpenAIChatCompletion\n",
    "from semantic_kernel.agents import ChatCompletionAgent\n",
    "from semantic_kernel.contents import ChatHistory"
   ]
  },
  {
   "cell_type": "markdown",
   "metadata": {},
   "source": [
    "A Semantic Kernel instance is then created, and the OpenAI chat completion service is added to it."
   ]
  },
  {
   "cell_type": "code",
   "execution_count": 3,
   "metadata": {},
   "outputs": [],
   "source": [
    "# Initialize the asynchronous OpenAI client\n",
    "client = AsyncOpenAI(\n",
    "    api_key=os.environ[\"GITHUB_TOKEN\"],\n",
    "    base_url=\"https://models.inference.ai.azure.com/\"\n",
    ")\n",
    "\n",
    "# Create a Semantic Kernel instance and add an OpenAI chat completion service.\n",
    "kernel = Kernel()\n",
    "chat_completion_service = OpenAIChatCompletion(\n",
    "    ai_model_id=\"gpt-4o-mini\",\n",
    "    async_client=client,\n",
    "    service_id=\"agent\",\n",
    ")\n",
    "kernel.add_service(chat_completion_service)"
   ]
  },
  {
   "cell_type": "markdown",
   "metadata": {},
   "source": [
    "## Creating the Agent\n",
    "\n",
    "In the **Creating the Agent** section, the code defines:\n",
    "- `AGENT_NAME`: The name of the AI agent, e.g., `\"TravelAgent\"`.\n",
    "- `AGENT_INSTRUCTIONS`: A string that instructs the agent on its task, tone, and behavior (helpful, travel recommendation focused).\n",
    "\n",
    "The agent is instantiated using `ChatCompletionAgent`, which utilizes the Semantic Kernel and the previously defined service."
   ]
  },
  {
   "cell_type": "code",
   "execution_count": 4,
   "metadata": {},
   "outputs": [],
   "source": [
    "AGENT_NAME = \"TravelAgent\"\n",
    "AGENT_INSTRUCTIONS = (\n",
    "    \"You are a helpful AI Agent that can help plan vacations for customers. \"\n",
    "    \"When formulating your response, base your answer solely on the information provided in the search results below; do not include external knowledge.\"\n",
    ")\n",
    "agent = ChatCompletionAgent(service_id=\"agent\", kernel=kernel, name=AGENT_NAME)"
   ]
  },
  {
   "cell_type": "markdown",
   "metadata": {},
   "source": [
    "## Setting Up ChromaDB\n",
    "\n",
    "To facilitate Retrieval-Augmented Generation:\n",
    "- A persistent ChromaDB client is instantiated.\n",
    "- A collection called `\"travel_documents\"` is created (or retrieved if it exists). This collection contains sample travel documents and metadata.\n",
    "- Sample documents describing various travel services (e.g., luxury vacation packages, itinerary planning, travel insurance) are added to the collection."
   ]
  },
  {
   "cell_type": "code",
   "execution_count": 5,
   "metadata": {},
   "outputs": [],
   "source": [
    "# Initialize ChromaDB with persistent storage\n",
    "chroma_client = chromadb.PersistentClient(path=\"./chroma_db\")\n",
    "collection = chroma_client.create_collection(\n",
    "    name=\"travel_documents\",\n",
    "    metadata={\"description\": \"travel_service\"},\n",
    "    get_or_create=True\n",
    ")\n",
    "\n",
    "# Enhanced sample documents\n",
    "documents = [\n",
    "    \"Contoso Travel offers luxury vacation packages to exotic destinations worldwide.\",\n",
    "    \"Our premium travel services include personalized itinerary planning and 24/7 concierge support.\",\n",
    "    \"Contoso's travel insurance covers medical emergencies, trip cancellations, and lost baggage.\",\n",
    "    \"Popular destinations include the Maldives, Swiss Alps, and African safaris.\",\n",
    "    \"Contoso Travel provides exclusive access to boutique hotels and private guided tours.\"\n",
    "]\n",
    "\n",
    "# Add documents with metadata\n",
    "collection.add(\n",
    "    documents=documents,\n",
    "    ids=[f\"doc_{i}\" for i in range(len(documents))],\n",
    "    metadatas=[{\"source\": \"training\", \"type\": \"explanation\"} for _ in documents]\n",
    ")"
   ]
  },
  {
   "cell_type": "markdown",
   "metadata": {},
   "source": [
    "## Text Search Plugin\n",
    "\n",
    "The **TextSearchPlugin** class is implemented to interface with ChromaDB:\n",
    "- The `search` method performs a query on the collection using a provided search term. It returns the first relevant document along with its corresponding metadata formatted as a string.\n"
   ]
  },
  {
   "cell_type": "code",
   "execution_count": 6,
   "metadata": {},
   "outputs": [],
   "source": [
    "class TextSearchPlugin:\n",
    "    \"\"\"\n",
    "    A text search plugin that uses ChromaDB to retrieve travel documents.\n",
    "    \"\"\"\n",
    "    def __init__(self, chroma_db_path: str = \"./chroma_db\", collection_name: str = \"travel_documents\"):\n",
    "        self.client = chromadb.PersistentClient(path=chroma_db_path)\n",
    "        try:\n",
    "            self.collection = self.client.get_collection(name=collection_name)\n",
    "        except Exception as e:\n",
    "            raise Exception(\n",
    "                f\"Collection '{collection_name}' not found.\"\n",
    "            ) from e\n",
    "\n",
    "    def search(self, query: str) -> str:\n",
    "        \"\"\"\n",
    "        Searches the ChromaDB collection for documents relevant to the query.\n",
    "        Returns a formatted string with the first search result's document and metadata.\n",
    "        \"\"\"\n",
    "        results = self.collection.query(\n",
    "            query_texts=[query],\n",
    "            include=[\"documents\", \"metadatas\"],\n",
    "            n_results=1\n",
    "        )\n",
    "        if results and results.get(\"documents\") and len(results[\"documents\"][0]) > 0:\n",
    "            result_text = results[\"documents\"][0][0]  # First result document text.\n",
    "            metadata = results[\"metadatas\"][0][0]       # Corresponding metadata.\n",
    "            return f\"Document: {result_text}\\nMetadata: {metadata}\"\n",
    "        return \"No results found\""
   ]
  },
  {
   "cell_type": "markdown",
   "metadata": {},
   "source": [
    "## Augmenting User Queries\n",
    "\n",
    "The function `semantic_search_rag` is defined to augment user queries with semantic search results from ChromaDB. It uses the `TextSearchPlugin` to retrieve relevant documents based on the user's input. The function then formats the search results as a string and appends them to the user's query."
   ]
  },
  {
   "cell_type": "code",
   "execution_count": 7,
   "metadata": {},
   "outputs": [],
   "source": [
    "def semantic_search_rag(query: str) -> str:\n",
    "    # Initialize the text search plugin (uses default ChromaDB path and collection \"travel_documents\")\n",
    "    search_plugin = TextSearchPlugin()\n",
    "    search_result = search_plugin.search(query)\n",
    "    \n",
    "    # Construct an augmented prompt containing both the search results and the original query.\n",
    "    prompt = (\n",
    "        f\"Search Results:\\n{search_result}\\n\\n\"\n",
    "        f\"User Query: {query}\\n\\n\"\n",
    "        \"Based solely on the above search results, provide a detailed travel recommendation using only the provided information.\"\n",
    "    )\n",
    "    return prompt"
   ]
  },
  {
   "cell_type": "markdown",
   "metadata": {},
   "source": [
    "# Running the Agent\n",
    "\n",
    "The agent is run in a loop that prompts the user for input and provides travel recommendations based on the user's queries. The agent uses the `semantic_search_rag` function to augment the user's queries with semantic search results from ChromaDB."
   ]
  },
  {
   "cell_type": "code",
   "execution_count": 8,
   "metadata": {},
   "outputs": [],
   "source": [
    "async def main():\n",
    "    # Initialize chat history and set system instructions.\n",
    "    chat_history = ChatHistory()\n",
    "    chat_history.add_system_message(AGENT_INSTRUCTIONS)\n",
    "\n",
    "    # List of user queries.\n",
    "    user_inputs = [\n",
    "        \"What travel services does Contoso offer?\",\n",
    "        \"Are there any luxury vacation options?\"\n",
    "    ]\n",
    "\n",
    "    for user_input in user_inputs:\n",
    "        # Print the user's original message.\n",
    "        print(f\"User: {user_input}\")\n",
    "        \n",
    "        # Create augmented prompt using semantic search.\n",
    "        augmented_prompt = semantic_search_rag(user_input)\n",
    "        chat_history.add_user_message(augmented_prompt)\n",
    "        \n",
    "        # Stream the agent's response asynchronously.\n",
    "        response_text = \"\"\n",
    "        async for content in agent.invoke_stream(chat_history):\n",
    "            if content.content.strip():\n",
    "                response_text += content.content\n",
    "        \n",
    "        # Print the assistant's response.\n",
    "        print(f\"Assistant: {response_text}\\n\")"
   ]
  },
  {
   "cell_type": "code",
   "execution_count": 9,
   "metadata": {},
   "outputs": [
    {
     "name": "stdout",
     "output_type": "stream",
     "text": [
      "User: What travel services does Contoso offer?\n",
      "Assistant: Contoso Travel specializes in luxury vacation packages to exotic destinations worldwide. If you're looking for a top-tier travel experience, I recommend exploring some of their offerings that may include stunning resorts, unique cultural experiences, and serene environments.To enhance your vacation, consider planning visits to destinations that are known for their luxury accommodations and beautiful scenery. Activities may include relaxing spa treatments, gourmet dining, and guided tours of local attractions.For a truly memorable experience, look into specific packages that Contoso Travel offers, focusing on exotic locations that intrigue you. Since they cater to luxury travel, you're likely to find exceptional services tailored to meet your needs throughout your vacation.Overall, if you're seeking an unforgettable getaway, Contoso Travel's luxury vacation packages would be an excellent choice for indulging in a dream vacation.\n",
      "\n",
      "User: Are there any luxury vacation options?\n",
      "Assistant: Yes, Contoso Travel offers luxury vacation packages to exotic destinations worldwide. For your travel planning, consider choosing one of their meticulously curated luxury packages, which are designed to provide an exceptional experience.\n",
      "\n",
      "When selecting a vacation option, think about the type of exotic destination that appeals to you—whether it's a tropical beach, a serene mountain retreat, or a vibrant cultural hub. These packages typically include high-end accommodations, personalized services, and unique experiences that cater to luxury travelers.\n",
      "\n",
      "To make the most of your trip, explore activities that may be included in the package, such as private tours, exclusive dining options, and access to premium amenities.In summary, if you're in search of luxury vacation options, Contoso Travel has a range of enticing packages to help you create an unforgettable getaway in some of the world's most exotic locations.\n",
      "\n"
     ]
    }
   ],
   "source": [
    "if __name__ == \"__main__\":\n",
    "    if asyncio.get_event_loop().is_running():\n",
    "        # Running in an interactive environment, use await main()\n",
    "        await main()\n",
    "    else:\n",
    "        # Running in a standard script, use asyncio.run()\n",
    "        asyncio.run(main())"
   ]
  }
 ],
 "metadata": {
  "kernelspec": {
   "display_name": "venv",
   "language": "python",
   "name": "python3"
  },
  "language_info": {
   "codemirror_mode": {
    "name": "ipython",
    "version": 3
   },
   "file_extension": ".py",
   "mimetype": "text/x-python",
   "name": "python",
   "nbconvert_exporter": "python",
   "pygments_lexer": "ipython3",
   "version": "3.12.4"
  }
 },
 "nbformat": 4,
 "nbformat_minor": 2
}
